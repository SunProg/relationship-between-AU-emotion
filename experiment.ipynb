{
 "cells": [
  {
   "cell_type": "markdown",
   "metadata": {},
   "source": [
    "# Data Loading"
   ]
  },
  {
   "cell_type": "code",
   "execution_count": 1,
   "metadata": {},
   "outputs": [
    {
     "name": "stderr",
     "output_type": "stream",
     "text": [
      "Using TensorFlow backend.\n"
     ]
    }
   ],
   "source": [
    "import pandas as pd\n",
    "import os\n",
    "import keras\n",
    "from keras import backend as K\n",
    "import numpy as np\n",
    "import matplotlib.pyplot as plt\n",
    "from sklearn.model_selection import KFold\n",
    "from keras.utils import np_utils\n",
    "from keras.models import Sequential, Model\n",
    "from keras.layers.merge import concatenate\n",
    "from keras.preprocessing.image import ImageDataGenerator\n",
    "from keras.layers import  Input, Dense, Conv2D, Dropout, Flatten, MaxPooling2D, LSTM\n",
    "from keras.datasets import cifar10\n",
    "from keras.callbacks import ModelCheckpoint\n",
    "from keras.models import model_from_json"
   ]
  },
  {
   "cell_type": "code",
   "execution_count": 2,
   "metadata": {},
   "outputs": [],
   "source": [
    "def load_data(dataset_path='./npy_files'):\n",
    "    X = np.load(os.path.join(dataset_path,'X.npy'))\n",
    "    y = np.load(os.path.join(dataset_path,'y.npy'))\n",
    "    folds = np.load(os.path.join(dataset_path,'folds.npy'))\n",
    "    feature_class = np.load(os.path.join(dataset_path, 'feature_class.npy'))\n",
    "    facs = pd.read_csv('save_data/npy_files/facs_multi.csv',index_col=None)\n",
    "\n",
    "    # rescale [0,255] -> [0,2]    \n",
    "    X = X.astype('float32')/255*2\n",
    "\n",
    "\n",
    "    return X, y, folds, feature_class, facs"
   ]
  },
  {
   "cell_type": "code",
   "execution_count": 3,
   "metadata": {},
   "outputs": [],
   "source": [
    "X, y, folds, feature_class, facs = load_data('./save_data/npy_files/')\n",
    "del facs['Unnamed: 0']\n",
    "del facs['10']\n",
    "del facs['26']\n",
    "del facs['0']"
   ]
  },
  {
   "cell_type": "code",
   "execution_count": 4,
   "metadata": {},
   "outputs": [],
   "source": [
    "from sklearn.model_selection import train_test_split"
   ]
  },
  {
   "cell_type": "code",
   "execution_count": 5,
   "metadata": {},
   "outputs": [],
   "source": [
    "feature_class_single = np.zeros((1307, 4040))\n",
    "for index, inst in enumerate(feature_class):\n",
    "    feature_class_single[index] = inst[0]"
   ]
  },
  {
   "cell_type": "code",
   "execution_count": 83,
   "metadata": {},
   "outputs": [],
   "source": [
    "X_train, X_test, facs_train_X, facs_test_X = \\\n",
    "        train_test_split(feature_class_single, facs, test_size=0.4)"
   ]
  },
  {
   "cell_type": "code",
   "execution_count": 84,
   "metadata": {},
   "outputs": [],
   "source": [
    "feature_train, feature_test, facs_train, facs_test = \\\n",
    "        train_test_split(feature_class_single, facs, test_size=0.4)"
   ]
  },
  {
   "cell_type": "code",
   "execution_count": 53,
   "metadata": {},
   "outputs": [
    {
     "data": {
      "text/plain": [
       "(262, 15)"
      ]
     },
     "execution_count": 53,
     "metadata": {},
     "output_type": "execute_result"
    }
   ],
   "source": [
    "facs_test_X.shape"
   ]
  },
  {
   "cell_type": "code",
   "execution_count": 85,
   "metadata": {},
   "outputs": [],
   "source": [
    "X_cv = X.reshape((1307, -1))"
   ]
  },
  {
   "cell_type": "markdown",
   "metadata": {},
   "source": [
    "## Each Accuracy Function"
   ]
  },
  {
   "cell_type": "code",
   "execution_count": 74,
   "metadata": {},
   "outputs": [],
   "source": [
    "def each_accuracy_calculation(pred, test):\n",
    "    each_accuracy = {}\n",
    "    pred_df = pd.DataFrame(pred, columns=facs.columns.astype(int))\n",
    "    for col_index, au_code in enumerate(pred_df.columns):\n",
    "        each_accuracy[int(au_code)] = 0\n",
    "        for index, elem in enumerate(pred_df[au_code]):\n",
    "            if elem == test.iloc[index][col_index]:\n",
    "                each_accuracy[int(au_code)] += 1\n",
    "    \n",
    "    for key in each_accuracy:\n",
    "        each_accuracy[key] /= test.shape[0]\n",
    "        each_accuracy[key] *= 100\n",
    "    return each_accuracy"
   ]
  },
  {
   "cell_type": "code",
   "execution_count": 103,
   "metadata": {},
   "outputs": [
    {
     "data": {
      "text/plain": [
       "{1: 97.51434034416826,\n",
       " 2: 97.131931166348,\n",
       " 4: 92.35181644359464,\n",
       " 5: 94.83747609942638,\n",
       " 6: 93.88145315487571,\n",
       " 7: 93.88145315487571,\n",
       " 9: 99.61759082217974,\n",
       " 12: 97.89674952198853,\n",
       " 15: 97.70554493307839,\n",
       " 17: 92.92543021032505,\n",
       " 20: 98.66156787762907,\n",
       " 23: 97.70554493307839,\n",
       " 24: 96.5583173996176,\n",
       " 25: 97.131931166348,\n",
       " 27: 98.2791586998088}"
      ]
     },
     "execution_count": 103,
     "metadata": {},
     "output_type": "execute_result"
    }
   ],
   "source": [
    "each_accuracy_calculation(decision_tree_raw_pred, facs_test_X)"
   ]
  },
  {
   "cell_type": "markdown",
   "metadata": {},
   "source": [
    "# Classifiers"
   ]
  },
  {
   "cell_type": "markdown",
   "metadata": {},
   "source": [
    "## Decision Tree"
   ]
  },
  {
   "cell_type": "markdown",
   "metadata": {},
   "source": [
    "### Raw Value"
   ]
  },
  {
   "cell_type": "code",
   "execution_count": 87,
   "metadata": {},
   "outputs": [],
   "source": [
    "from sklearn.tree import DecisionTreeClassifier\n",
    "\n",
    "decision_tree_raw = DecisionTreeClassifier()\n",
    "decision_tree_raw = decision_tree_raw.fit(X_train, facs_train_X)"
   ]
  },
  {
   "cell_type": "code",
   "execution_count": 88,
   "metadata": {
    "scrolled": true
   },
   "outputs": [
    {
     "data": {
      "text/plain": [
       "0.7476099426386233"
      ]
     },
     "execution_count": 88,
     "metadata": {},
     "output_type": "execute_result"
    }
   ],
   "source": [
    "from sklearn.metrics import accuracy_score\n",
    "\n",
    "accuracy_score(decision_tree_raw.predict(X_test), facs_test_X)"
   ]
  },
  {
   "cell_type": "code",
   "execution_count": 89,
   "metadata": {},
   "outputs": [],
   "source": [
    "decision_tree_raw_pred = decision_tree_raw.predict(X_test)"
   ]
  },
  {
   "cell_type": "code",
   "execution_count": 99,
   "metadata": {},
   "outputs": [
    {
     "data": {
      "text/plain": [
       "{1: 97.51434034416826,\n",
       " 2: 97.131931166348,\n",
       " 4: 92.35181644359464,\n",
       " 5: 94.83747609942638,\n",
       " 6: 93.88145315487571,\n",
       " 7: 93.88145315487571,\n",
       " 9: 99.61759082217974,\n",
       " 12: 97.89674952198853,\n",
       " 15: 97.70554493307839,\n",
       " 17: 92.92543021032505,\n",
       " 20: 98.66156787762907,\n",
       " 23: 97.70554493307839,\n",
       " 24: 96.5583173996176,\n",
       " 25: 97.131931166348,\n",
       " 27: 98.2791586998088}"
      ]
     },
     "execution_count": 99,
     "metadata": {},
     "output_type": "execute_result"
    }
   ],
   "source": [
    "each_accuracy_calculation(decision_tree_raw_pred, facs_test_X)"
   ]
  },
  {
   "cell_type": "markdown",
   "metadata": {},
   "source": [
    "## CV"
   ]
  },
  {
   "cell_type": "code",
   "execution_count": 76,
   "metadata": {},
   "outputs": [],
   "source": [
    "from sklearn.model_selection import cross_val_score"
   ]
  },
  {
   "cell_type": "code",
   "execution_count": 104,
   "metadata": {},
   "outputs": [
    {
     "data": {
      "text/plain": [
       "array([0.21100917, 0.2706422 , 0.27356322])"
      ]
     },
     "execution_count": 104,
     "metadata": {},
     "output_type": "execute_result"
    }
   ],
   "source": [
    "decision_tree_raw_cv = DecisionTreeClassifier()\n",
    "cross_val_score(decision_tree_raw_cv, X_cv, facs.values)"
   ]
  },
  {
   "cell_type": "markdown",
   "metadata": {},
   "source": [
    "### Feature value"
   ]
  },
  {
   "cell_type": "code",
   "execution_count": 90,
   "metadata": {},
   "outputs": [],
   "source": [
    "decision_tree_feature = DecisionTreeClassifier()\n",
    "decision_tree_feature = decision_tree_feature.fit(feature_train, facs_train)"
   ]
  },
  {
   "cell_type": "code",
   "execution_count": 91,
   "metadata": {},
   "outputs": [
    {
     "data": {
      "text/plain": [
       "0.762906309751434"
      ]
     },
     "execution_count": 91,
     "metadata": {},
     "output_type": "execute_result"
    }
   ],
   "source": [
    "accuracy_score(decision_tree_feature.predict(feature_test), facs_test)"
   ]
  },
  {
   "cell_type": "code",
   "execution_count": 92,
   "metadata": {
    "scrolled": true
   },
   "outputs": [],
   "source": [
    "decision_tree_feature_pred = decision_tree_feature.predict(feature_test)"
   ]
  },
  {
   "cell_type": "code",
   "execution_count": 100,
   "metadata": {},
   "outputs": [
    {
     "data": {
      "text/plain": [
       "{1: 97.70554493307839,\n",
       " 2: 97.131931166348,\n",
       " 4: 94.64627151051626,\n",
       " 5: 95.98470363288719,\n",
       " 6: 95.02868068833652,\n",
       " 7: 93.11663479923517,\n",
       " 9: 98.8527724665392,\n",
       " 12: 98.66156787762907,\n",
       " 15: 96.74952198852772,\n",
       " 17: 94.07265774378585,\n",
       " 20: 99.04397705544933,\n",
       " 23: 95.79349904397706,\n",
       " 24: 95.79349904397706,\n",
       " 25: 96.74952198852772,\n",
       " 27: 98.8527724665392}"
      ]
     },
     "execution_count": 100,
     "metadata": {},
     "output_type": "execute_result"
    }
   ],
   "source": [
    "each_accuracy_calculation(decision_tree_feature_pred, facs_test)"
   ]
  },
  {
   "cell_type": "markdown",
   "metadata": {},
   "source": [
    "## Random Forest"
   ]
  },
  {
   "cell_type": "markdown",
   "metadata": {},
   "source": [
    "### Raw Value"
   ]
  },
  {
   "cell_type": "code",
   "execution_count": 93,
   "metadata": {},
   "outputs": [],
   "source": [
    "from sklearn.ensemble import RandomForestClassifier"
   ]
  },
  {
   "cell_type": "code",
   "execution_count": 94,
   "metadata": {
    "scrolled": true
   },
   "outputs": [
    {
     "data": {
      "text/plain": [
       "0.6175908221797323"
      ]
     },
     "execution_count": 94,
     "metadata": {},
     "output_type": "execute_result"
    }
   ],
   "source": [
    "random_forest_raw = RandomForestClassifier()\n",
    "random_forest_raw = random_forest_raw.fit(X_train, facs_train_X)\n",
    "accuracy_score(random_forest_raw.predict(X_test), facs_test_X)"
   ]
  },
  {
   "cell_type": "code",
   "execution_count": 95,
   "metadata": {},
   "outputs": [],
   "source": [
    "random_forest_raw_pred = random_forest_raw.predict(X_test)"
   ]
  },
  {
   "cell_type": "markdown",
   "metadata": {},
   "source": [
    "### Feature value"
   ]
  },
  {
   "cell_type": "code",
   "execution_count": 96,
   "metadata": {
    "scrolled": true
   },
   "outputs": [
    {
     "data": {
      "text/plain": [
       "0.6252390057361377"
      ]
     },
     "execution_count": 96,
     "metadata": {},
     "output_type": "execute_result"
    }
   ],
   "source": [
    "random_forest_feature = RandomForestClassifier()\n",
    "random_forest_feature = random_forest_feature.fit(feature_train, facs_train)\n",
    "accuracy_score(random_forest_feature.predict(feature_test), facs_test)"
   ]
  },
  {
   "cell_type": "code",
   "execution_count": 97,
   "metadata": {},
   "outputs": [],
   "source": [
    "random_forest_feature_pred = random_forest_feature.predict(X_test)"
   ]
  },
  {
   "cell_type": "code",
   "execution_count": null,
   "metadata": {},
   "outputs": [],
   "source": [
    "each_accuracy_calculation()"
   ]
  }
 ],
 "metadata": {
  "kernelspec": {
   "display_name": "Python 3",
   "language": "python",
   "name": "python3"
  },
  "language_info": {
   "codemirror_mode": {
    "name": "ipython",
    "version": 3
   },
   "file_extension": ".py",
   "mimetype": "text/x-python",
   "name": "python",
   "nbconvert_exporter": "python",
   "pygments_lexer": "ipython3",
   "version": "3.5.2"
  }
 },
 "nbformat": 4,
 "nbformat_minor": 2
}
